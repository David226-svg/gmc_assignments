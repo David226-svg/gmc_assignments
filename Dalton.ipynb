{
  "nbformat": 4,
  "nbformat_minor": 0,
  "metadata": {
    "colab": {
      "provenance": [],
      "authorship_tag": "ABX9TyP9nTiOkEzqDay4g7kxC5eo",
      "include_colab_link": true
    },
    "kernelspec": {
      "name": "python3",
      "display_name": "Python 3"
    },
    "language_info": {
      "name": "python"
    }
  },
  "cells": [
    {
      "cell_type": "markdown",
      "metadata": {
        "id": "view-in-github",
        "colab_type": "text"
      },
      "source": [
        "<a href=\"https://colab.research.google.com/github/David226-svg/gmc_assignments/blob/main/Dalton.ipynb\" target=\"_parent\"><img src=\"https://colab.research.google.com/assets/colab-badge.svg\" alt=\"Open In Colab\"/></a>"
      ]
    },
    {
      "cell_type": "code",
      "execution_count": 1,
      "metadata": {
        "colab": {
          "base_uri": "https://localhost:8080/"
        },
        "id": "waOvRgomxmRQ",
        "outputId": "c3d7104e-0ee4-4e57-9cfe-59b792e26e27"
      },
      "outputs": [
        {
          "output_type": "stream",
          "name": "stdout",
          "text": [
            "Welcome to Python, Lets start coding\n"
          ]
        }
      ],
      "source": [
        "print('Welcome to Python, Lets start coding')"
      ]
    },
    {
      "cell_type": "code",
      "source": [
        "print(2 + 4)"
      ],
      "metadata": {
        "colab": {
          "base_uri": "https://localhost:8080/"
        },
        "id": "KRPs1ujbx_cF",
        "outputId": "c38ce1b6-912b-4735-a576-22f6ac80c490"
      },
      "execution_count": 2,
      "outputs": [
        {
          "output_type": "stream",
          "name": "stdout",
          "text": [
            "6\n"
          ]
        }
      ]
    },
    {
      "cell_type": "code",
      "source": [
        "print (2-4)\n",
        "print (2*4)\n",
        "print (2//4)\n",
        "print (2%4)"
      ],
      "metadata": {
        "colab": {
          "base_uri": "https://localhost:8080/"
        },
        "id": "i1TXt3gKyOSO",
        "outputId": "066bd284-669c-406e-c61c-5e41ae7a385c"
      },
      "execution_count": 7,
      "outputs": [
        {
          "output_type": "stream",
          "name": "stdout",
          "text": [
            "-2\n",
            "8\n",
            "0\n",
            "2\n"
          ]
        }
      ]
    }
  ]
}